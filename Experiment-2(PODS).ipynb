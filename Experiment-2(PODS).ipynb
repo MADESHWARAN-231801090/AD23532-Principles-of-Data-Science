{
  "nbformat": 4,
  "nbformat_minor": 0,
  "metadata": {
    "colab": {
      "provenance": []
    },
    "kernelspec": {
      "name": "python3",
      "display_name": "Python 3"
    },
    "language_info": {
      "name": "python"
    }
  },
  "cells": [
    {
      "cell_type": "code",
      "execution_count": null,
      "metadata": {
        "colab": {
          "base_uri": "https://localhost:8080/"
        },
        "id": "c4VfP3H_kWDO",
        "outputId": "8b4c37fa-0e8c-4afd-e326-6e4b8793cf5b"
      },
      "outputs": [
        {
          "output_type": "stream",
          "name": "stdout",
          "text": [
            "Shape of dataset: (891, 12)\n",
            "\n",
            "Info:\n",
            "<class 'pandas.core.frame.DataFrame'>\n",
            "RangeIndex: 891 entries, 0 to 890\n",
            "Data columns (total 12 columns):\n",
            " #   Column       Non-Null Count  Dtype  \n",
            "---  ------       --------------  -----  \n",
            " 0   PassengerId  891 non-null    int64  \n",
            " 1   Survived     891 non-null    int64  \n",
            " 2   Pclass       891 non-null    int64  \n",
            " 3   Name         891 non-null    object \n",
            " 4   Sex          891 non-null    object \n",
            " 5   Age          714 non-null    float64\n",
            " 6   SibSp        891 non-null    int64  \n",
            " 7   Parch        891 non-null    int64  \n",
            " 8   Ticket       891 non-null    object \n",
            " 9   Fare         891 non-null    float64\n",
            " 10  Cabin        204 non-null    object \n",
            " 11  Embarked     889 non-null    object \n",
            "dtypes: float64(2), int64(5), object(5)\n",
            "memory usage: 83.7+ KB\n",
            "None\n",
            "\n",
            "Describe:\n",
            "        PassengerId    Survived      Pclass                 Name   Sex  \\\n",
            "count    891.000000  891.000000  891.000000                  891   891   \n",
            "unique          NaN         NaN         NaN                  891     2   \n",
            "top             NaN         NaN         NaN  Dooley, Mr. Patrick  male   \n",
            "freq            NaN         NaN         NaN                    1   577   \n",
            "mean     446.000000    0.383838    2.308642                  NaN   NaN   \n",
            "std      257.353842    0.486592    0.836071                  NaN   NaN   \n",
            "min        1.000000    0.000000    1.000000                  NaN   NaN   \n",
            "25%      223.500000    0.000000    2.000000                  NaN   NaN   \n",
            "50%      446.000000    0.000000    3.000000                  NaN   NaN   \n",
            "75%      668.500000    1.000000    3.000000                  NaN   NaN   \n",
            "max      891.000000    1.000000    3.000000                  NaN   NaN   \n",
            "\n",
            "               Age       SibSp       Parch  Ticket        Fare Cabin Embarked  \n",
            "count   714.000000  891.000000  891.000000     891  891.000000   204      889  \n",
            "unique         NaN         NaN         NaN     681         NaN   147        3  \n",
            "top            NaN         NaN         NaN  347082         NaN    G6        S  \n",
            "freq           NaN         NaN         NaN       7         NaN     4      644  \n",
            "mean     29.699118    0.523008    0.381594     NaN   32.204208   NaN      NaN  \n",
            "std      14.526497    1.102743    0.806057     NaN   49.693429   NaN      NaN  \n",
            "min       0.420000    0.000000    0.000000     NaN    0.000000   NaN      NaN  \n",
            "25%      20.125000    0.000000    0.000000     NaN    7.910400   NaN      NaN  \n",
            "50%      28.000000    0.000000    0.000000     NaN   14.454200   NaN      NaN  \n",
            "75%      38.000000    1.000000    0.000000     NaN   31.000000   NaN      NaN  \n",
            "max      80.000000    8.000000    6.000000     NaN  512.329200   NaN      NaN  \n"
          ]
        }
      ],
      "source": [
        "import pandas as pd\n",
        "df=pd.read_csv('https://raw.githubusercontent.com/datasciencedojo/datasets/master/titanic.csv')\n",
        "print(\"Shape of dataset:\", df.shape)\n",
        "print(\"\\nInfo:\")\n",
        "print(df.info())\n",
        "print(\"\\nDescribe:\")\n",
        "print(df.describe(include='all'))\n"
      ]
    },
    {
      "cell_type": "code",
      "source": [
        "from sklearn.impute import SimpleImputer\n",
        "\n",
        "age_imputer = SimpleImputer(strategy='mean')\n",
        "df['Age'] = age_imputer.fit_transform(df[['Age']])\n",
        "\n",
        "df['Cabin'].fillna('Unknown', inplace=True)\n",
        "\n",
        "mode_embarked = df['Embarked'].mode()[0]\n",
        "df['Embarked'].fillna(mode_embarked, inplace=True)\n"
      ],
      "metadata": {
        "colab": {
          "base_uri": "https://localhost:8080/"
        },
        "id": "5Iq_Ow__liUy",
        "outputId": "9aaa3054-7360-4c14-cb03-b4574f577c37"
      },
      "execution_count": null,
      "outputs": [
        {
          "output_type": "stream",
          "name": "stderr",
          "text": [
            "/tmp/ipython-input-3-2053958636.py:6: FutureWarning: A value is trying to be set on a copy of a DataFrame or Series through chained assignment using an inplace method.\n",
            "The behavior will change in pandas 3.0. This inplace method will never work because the intermediate object on which we are setting values always behaves as a copy.\n",
            "\n",
            "For example, when doing 'df[col].method(value, inplace=True)', try using 'df.method({col: value}, inplace=True)' or df[col] = df[col].method(value) instead, to perform the operation inplace on the original object.\n",
            "\n",
            "\n",
            "  df['Cabin'].fillna('Unknown', inplace=True)\n",
            "/tmp/ipython-input-3-2053958636.py:9: FutureWarning: A value is trying to be set on a copy of a DataFrame or Series through chained assignment using an inplace method.\n",
            "The behavior will change in pandas 3.0. This inplace method will never work because the intermediate object on which we are setting values always behaves as a copy.\n",
            "\n",
            "For example, when doing 'df[col].method(value, inplace=True)', try using 'df.method({col: value}, inplace=True)' or df[col] = df[col].method(value) instead, to perform the operation inplace on the original object.\n",
            "\n",
            "\n",
            "  df['Embarked'].fillna(mode_embarked, inplace=True)\n"
          ]
        }
      ]
    },
    {
      "cell_type": "code",
      "source": [
        "female_survived = df[(df['Sex'] == 'female') & (df['Survived'] == 1)]\n",
        "print(female_survived[['Name', 'Survived']])\n"
      ],
      "metadata": {
        "colab": {
          "base_uri": "https://localhost:8080/"
        },
        "id": "2muf5_rynA1q",
        "outputId": "85dfceac-094f-4f26-bf4d-2a100ff07edd"
      },
      "execution_count": null,
      "outputs": [
        {
          "output_type": "stream",
          "name": "stdout",
          "text": [
            "                                                  Name  Survived\n",
            "1    Cumings, Mrs. John Bradley (Florence Briggs Th...         1\n",
            "2                               Heikkinen, Miss. Laina         1\n",
            "3         Futrelle, Mrs. Jacques Heath (Lily May Peel)         1\n",
            "8    Johnson, Mrs. Oscar W (Elisabeth Vilhelmina Berg)         1\n",
            "9                  Nasser, Mrs. Nicholas (Adele Achem)         1\n",
            "..                                                 ...       ...\n",
            "874              Abelson, Mrs. Samuel (Hannah Wizosky)         1\n",
            "875                   Najib, Miss. Adele Kiamie \"Jane\"         1\n",
            "879      Potter, Mrs. Thomas Jr (Lily Alexenia Wilson)         1\n",
            "880       Shelley, Mrs. William (Imanita Parrish Hall)         1\n",
            "887                       Graham, Miss. Margaret Edith         1\n",
            "\n",
            "[233 rows x 2 columns]\n"
          ]
        }
      ]
    },
    {
      "cell_type": "code",
      "source": [
        "import seaborn as sns\n",
        "import matplotlib.pyplot as plt\n",
        "\n",
        "plt.figure(figsize=(8, 5))\n",
        "sns.countplot(x='Pclass', data=df)\n",
        "plt.title('Passenger Class Distribution')\n",
        "plt.show()\n"
      ],
      "metadata": {
        "colab": {
          "base_uri": "https://localhost:8080/",
          "height": 487
        },
        "id": "FY-zOkMsn1UR",
        "outputId": "ef3b3268-3ea6-44d7-be73-d2e9565b6891"
      },
      "execution_count": null,
      "outputs": [
        {
          "output_type": "display_data",
          "data": {
            "text/plain": [
              "<Figure size 800x500 with 1 Axes>"
            ],
            "image/png": "[encoded data removed]"
          },
          "metadata": {}
        }
      ]
    },
    {
      "cell_type": "code",
      "source": [
        "young_3rd_class = df[(df['Pclass'] == 3) & (df['Age'] < 18)]\n",
        "print(young_3rd_class[['Name', 'Age', 'Pclass']])\n"
      ],
      "metadata": {
        "colab": {
          "base_uri": "https://localhost:8080/"
        },
        "id": "Gx1BPRyIowjZ",
        "outputId": "02bddb3d-9ce2-49b2-e9e5-c8f2e9b7068c"
      },
      "execution_count": null,
      "outputs": [
        {
          "output_type": "stream",
          "name": "stdout",
          "text": [
            "                                        Name   Age  Pclass\n",
            "7             Palsson, Master. Gosta Leonard   2.0       3\n",
            "10           Sandstrom, Miss. Marguerite Rut   4.0       3\n",
            "14      Vestrom, Miss. Hulda Amanda Adolfina  14.0       3\n",
            "16                      Rice, Master. Eugene   2.0       3\n",
            "22               McGowan, Miss. Anna \"Annie\"  15.0       3\n",
            "..                                       ...   ...     ...\n",
            "844                      Culumovic, Mr. Jeso  17.0       3\n",
            "850  Andersson, Master. Sigvard Harald Elias   4.0       3\n",
            "852                  Boulos, Miss. Nourelain   9.0       3\n",
            "869          Johnson, Master. Harold Theodor   4.0       3\n",
            "875         Najib, Miss. Adele Kiamie \"Jane\"  15.0       3\n",
            "\n",
            "[78 rows x 3 columns]\n"
          ]
        }
      ]
    },
    {
      "cell_type": "code",
      "source": [
        "old_1st_class = df[(df['Pclass'] == 1) & (df['Age'] > 40)]\n",
        "print(old_1st_class[['Name', 'Age', 'Pclass']])\n"
      ],
      "metadata": {
        "colab": {
          "base_uri": "https://localhost:8080/"
        },
        "id": "6UXjb6A-pN0a",
        "outputId": "704d0a15-7fb9-48ae-d8bf-7b9cf2f339d3"
      },
      "execution_count": null,
      "outputs": [
        {
          "output_type": "stream",
          "name": "stdout",
          "text": [
            "                                                  Name   Age  Pclass\n",
            "6                              McCarthy, Mr. Timothy J  54.0       1\n",
            "11                            Bonnell, Miss. Elizabeth  58.0       1\n",
            "35                      Holverson, Mr. Alexander Oskar  42.0       1\n",
            "52            Harper, Mrs. Henry Sleeper (Myna Haxtun)  49.0       1\n",
            "54                      Ostby, Mr. Engelhart Cornelius  65.0       1\n",
            "..                                                 ...   ...     ...\n",
            "856         Wick, Mrs. George Dennick (Mary Hitchcock)  45.0       1\n",
            "857                             Daly, Mr. Peter Denis   51.0       1\n",
            "862  Swift, Mrs. Frederick Joel (Margaret Welles Ba...  48.0       1\n",
            "871   Beckwith, Mrs. Richard Leonard (Sallie Monypeny)  47.0       1\n",
            "879      Potter, Mrs. Thomas Jr (Lily Alexenia Wilson)  56.0       1\n",
            "\n",
            "[76 rows x 3 columns]\n"
          ]
        }
      ]
    },
    {
      "cell_type": "code",
      "source": [
        "survived_old_1st_class = old_1st_class[old_1st_class['Survived'] == 1]\n",
        "print(survived_old_1st_class[['Name', 'Age', 'Pclass', 'Survived']])\n"
      ],
      "metadata": {
        "colab": {
          "base_uri": "https://localhost:8080/"
        },
        "id": "qBb6eMszp9ux",
        "outputId": "9153beb8-fe32-418d-dc47-305748dd3acd"
      },
      "execution_count": null,
      "outputs": [
        {
          "output_type": "stream",
          "name": "stdout",
          "text": [
            "                                                  Name   Age  Pclass  Survived\n",
            "11                            Bonnell, Miss. Elizabeth  58.0       1         1\n",
            "52            Harper, Mrs. Henry Sleeper (Myna Haxtun)  49.0       1         1\n",
            "187      Romaine, Mr. Charles Hallace (\"Mr C Rolmane\")  45.0       1         1\n",
            "194          Brown, Mrs. James Joseph (Margaret Tobin)  44.0       1         1\n",
            "195                               Lurette, Miss. Elise  58.0       1         1\n",
            "268      Graham, Mrs. William Thompson (Edith Junkins)  58.0       1         1\n",
            "275                  Andrews, Miss. Kornelia Theodosia  63.0       1         1\n",
            "299    Baxter, Mrs. James (Helene DeLaudeniere Chaput)  50.0       1         1\n",
            "337                    Burns, Miss. Elizabeth Margaret  41.0       1         1\n",
            "366   Warren, Mrs. Frank Manley (Anna Sophia Atkinson)  60.0       1         1\n",
            "380                              Bidois, Miss. Rosalie  42.0       1         1\n",
            "449                     Peuchen, Major. Arthur Godfrey  52.0       1         1\n",
            "453                           Goldenberg, Mr. Samuel L  49.0       1         1\n",
            "460                                Anderson, Mr. Harry  48.0       1         1\n",
            "496                     Eustis, Miss. Elizabeth Mussey  54.0       1         1\n",
            "513     Rothschild, Mrs. Martin (Elizabeth L. Barrett)  54.0       1         1\n",
            "523    Hippach, Mrs. Louis Albert (Ida Sophia Fischer)  44.0       1         1\n",
            "556  Duff Gordon, Lady. (Lucille Christiana Sutherl...  48.0       1         1\n",
            "571      Appleton, Mrs. Edward Dale (Charlotte Lamson)  53.0       1         1\n",
            "587                   Frolicher-Stehli, Mr. Maxmillian  60.0       1         1\n",
            "591    Stephenson, Mrs. Walter Bertram (Martha Eustis)  52.0       1         1\n",
            "599       Duff Gordon, Sir. Cosmo Edmund (\"Mr Morgan\")  49.0       1         1\n",
            "621                       Kimball, Mr. Edwin Nelson Jr  42.0       1         1\n",
            "630               Barkworth, Mr. Algernon Henry Wilson  80.0       1         1\n",
            "645                          Harper, Mr. Henry Sleeper  48.0       1         1\n",
            "647                Simonius-Blumer, Col. Oberst Alfons  56.0       1         1\n",
            "660                      Frauenthal, Dr. Henry William  50.0       1         1\n",
            "707                  Calderhead, Mr. Edward Pennington  42.0       1         1\n",
            "712                           Taylor, Mr. Elmer Zebley  48.0       1         1\n",
            "765               Hogeboom, Mrs. John C (Anna Andrews)  51.0       1         1\n",
            "779  Robert, Mrs. Edward Scott (Elisabeth Walton Mc...  43.0       1         1\n",
            "796                        Leader, Dr. Alice (Farnham)  49.0       1         1\n",
            "820  Hays, Mrs. Charles Melville (Clara Jennings Gr...  52.0       1         1\n",
            "829          Stone, Mrs. George Nelson (Martha Evelyn)  62.0       1         1\n",
            "856         Wick, Mrs. George Dennick (Mary Hitchcock)  45.0       1         1\n",
            "857                             Daly, Mr. Peter Denis   51.0       1         1\n",
            "862  Swift, Mrs. Frederick Joel (Margaret Welles Ba...  48.0       1         1\n",
            "871   Beckwith, Mrs. Richard Leonard (Sallie Monypeny)  47.0       1         1\n",
            "879      Potter, Mrs. Thomas Jr (Lily Alexenia Wilson)  56.0       1         1\n"
          ]
        }
      ]
    },
    {
      "cell_type": "code",
      "source": [
        "male_fare_gt_100 = df[(df['Sex'] == 'male') & (df['Fare'] > 100)]\n",
        "print(male_fare_gt_100[['Name', 'Fare', 'Sex']])\n"
      ],
      "metadata": {
        "colab": {
          "base_uri": "https://localhost:8080/"
        },
        "id": "NqQbLThyrFJ6",
        "outputId": "0f9db590-ac5e-4a1d-c07f-2d8e8087e4a0"
      },
      "execution_count": null,
      "outputs": [
        {
          "output_type": "stream",
          "name": "stdout",
          "text": [
            "                                           Name      Fare   Sex\n",
            "27               Fortune, Mr. Charles Alexander  263.0000  male\n",
            "118                    Baxter, Mr. Quigg Edmond  247.5208  male\n",
            "305              Allison, Master. Hudson Trevor  151.5500  male\n",
            "332                   Graham, Mr. George Edward  153.4625  male\n",
            "373                         Ringhini, Mr. Sante  135.6333  male\n",
            "377                   Widener, Mr. Harry Elkins  211.5000  male\n",
            "390                  Carter, Mr. William Ernest  120.0000  male\n",
            "438                           Fortune, Mr. Mark  263.0000  male\n",
            "505  Penasco y Castellana, Mr. Victor de Satode  108.9000  male\n",
            "527                          Farthing, Mr. John  221.7792  male\n",
            "544                  Douglas, Mr. Walter Donald  106.4250  male\n",
            "550                 Thayer, Mr. John Borland Jr  110.8833  male\n",
            "557                         Robbins, Mr. Victor  227.5250  male\n",
            "659                  Newell, Mr. Arthur Webster  113.2750  male\n",
            "660               Frauenthal, Dr. Henry William  133.6500  male\n",
            "679          Cardeza, Mr. Thomas Drake Martinez  512.3292  male\n",
            "698                    Thayer, Mr. John Borland  110.8833  male\n",
            "737                      Lesurer, Mr. Gustave J  512.3292  male\n",
            "802         Carter, Master. William Thornton II  120.0000  male\n"
          ]
        }
      ]
    },
    {
      "cell_type": "code",
      "source": [
        "embarked_C_class2 = df[(df['Embarked'] == 'C') & (df['Pclass'] == 2)]\n",
        "print(embarked_C_class2[['Name', 'Embarked', 'Pclass']])\n"
      ],
      "metadata": {
        "colab": {
          "base_uri": "https://localhost:8080/"
        },
        "id": "tHyHnC5Ar3ap",
        "outputId": "baee20cc-f995-4af0-9411-4967f96de6be"
      },
      "execution_count": null,
      "outputs": [
        {
          "output_type": "stream",
          "name": "stdout",
          "text": [
            "                                                  Name Embarked  Pclass\n",
            "9                  Nasser, Mrs. Nicholas (Adele Achem)        C       2\n",
            "43            Laroche, Miss. Simonne Marie Anne Andree        C       2\n",
            "122                               Nasser, Mr. Nicholas        C       2\n",
            "135                                 Richard, Mr. Emile        C       2\n",
            "181                                   Pernot, Mr. Rene        C       2\n",
            "292                             Levy, Mr. Rene Jacques        C       2\n",
            "308                                Abelson, Mr. Samuel        C       2\n",
            "361                          del Carlo, Mr. Sebastiano        C       2\n",
            "389                              Lehmann, Miss. Bertha        C       2\n",
            "473       Jerwan, Mrs. Amin S (Marie Marthe Thuillard)        C       2\n",
            "547                         Padro y Manent, Mr. Julian        C       2\n",
            "608  Laroche, Mrs. Joseph (Juliette Marie Louise La...        C       2\n",
            "685             Laroche, Mr. Joseph Philippe Lemercier        C       2\n",
            "817                                 Mallet, Mr. Albert        C       2\n",
            "827                              Mallet, Master. Andre        C       2\n",
            "866                       Duran y More, Miss. Asuncion        C       2\n",
            "874              Abelson, Mrs. Samuel (Hannah Wizosky)        C       2\n"
          ]
        }
      ]
    },
    {
      "cell_type": "code",
      "source": [
        "sibsp_gt_2 = df[df['SibSp'] > 2]\n",
        "print(sibsp_gt_2[['Name', 'SibSp']])\n"
      ],
      "metadata": {
        "colab": {
          "base_uri": "https://localhost:8080/"
        },
        "id": "zLRyajFtszkp",
        "outputId": "c541ca85-ed25-4092-d141-2a982dfa0e3f"
      },
      "execution_count": null,
      "outputs": [
        {
          "output_type": "stream",
          "name": "stdout",
          "text": [
            "                                                  Name  SibSp\n",
            "7                       Palsson, Master. Gosta Leonard      3\n",
            "16                                Rice, Master. Eugene      4\n",
            "24                       Palsson, Miss. Torborg Danira      3\n",
            "27                      Fortune, Mr. Charles Alexander      3\n",
            "50                          Panula, Master. Juha Niilo      4\n",
            "59                  Goodwin, Master. William Frederick      5\n",
            "63                               Skoog, Master. Harald      3\n",
            "68                     Andersson, Miss. Erna Alexandra      4\n",
            "71                          Goodwin, Miss. Lillian Amy      5\n",
            "85   Backstrom, Mrs. Karl Alfred (Maria Mathilda Gu...      3\n",
            "88                          Fortune, Miss. Mabel Helen      3\n",
            "119                  Andersson, Miss. Ellis Anna Maria      4\n",
            "159                         Sage, Master. Thomas Henry      8\n",
            "164                       Panula, Master. Eino Viljami      4\n",
            "171                               Rice, Master. Arthur      4\n",
            "176                      Lefebre, Master. Henry Forbes      3\n",
            "180                       Sage, Miss. Constance Gladys      8\n",
            "182              Asplund, Master. Clarence Gustaf Hugo      4\n",
            "201                                Sage, Mr. Frederick      8\n",
            "229                            Lefebre, Miss. Mathilde      3\n",
            "233                     Asplund, Miss. Lillian Gertrud      4\n",
            "261                  Asplund, Master. Edvin Rojj Felix      4\n",
            "266                          Panula, Mr. Ernesti Arvid      4\n",
            "278                                 Rice, Master. Eric      4\n",
            "324                           Sage, Mr. George John Jr      8\n",
            "341                     Fortune, Miss. Alice Elizabeth      3\n",
            "374                         Palsson, Miss. Stina Viola      3\n",
            "386                    Goodwin, Master. Sidney Leonard      5\n",
            "409                                 Lefebre, Miss. Ida      3\n",
            "480                     Goodwin, Master. Harold Victor      5\n",
            "485                             Lefebre, Miss. Jeannie      3\n",
            "541               Andersson, Miss. Ingeborg Constanzia      4\n",
            "542                  Andersson, Miss. Sigrid Elisabeth      4\n",
            "634                                 Skoog, Miss. Mabel      3\n",
            "642                      Skoog, Miss. Margit Elizabeth      3\n",
            "683                        Goodwin, Mr. Charles Edward      5\n",
            "686                           Panula, Mr. Jaako Arnold      4\n",
            "726        Renouf, Mrs. Peter Henry (Lillian Jefferys)      3\n",
            "787                          Rice, Master. George Hugh      4\n",
            "792                            Sage, Miss. Stella Anna      8\n",
            "813                 Andersson, Miss. Ebba Iris Alfrida      4\n",
            "819                       Skoog, Master. Karl Thorsten      3\n",
            "824                       Panula, Master. Urho Abraham      4\n",
            "846                           Sage, Mr. Douglas Bullen      8\n",
            "850            Andersson, Master. Sigvard Harald Elias      4\n",
            "863                  Sage, Miss. Dorothy Edith \"Dolly\"      8\n"
          ]
        }
      ]
    },
    {
      "cell_type": "code",
      "source": [
        "no_family_not_survived = df[(df['Survived'] == 0) & (df['SibSp'] == 0) & (df['Parch'] == 0)]\n",
        "print(no_family_not_survived[['Name', 'SibSp', 'Parch', 'Survived']])\n"
      ],
      "metadata": {
        "colab": {
          "base_uri": "https://localhost:8080/"
        },
        "id": "isbwvXGotZRy",
        "outputId": "5a85bf61-05d4-46ed-c75f-a67e04ae9210"
      },
      "execution_count": null,
      "outputs": [
        {
          "output_type": "stream",
          "name": "stdout",
          "text": [
            "                                     Name  SibSp  Parch  Survived\n",
            "4                Allen, Mr. William Henry      0      0         0\n",
            "5                        Moran, Mr. James      0      0         0\n",
            "6                 McCarthy, Mr. Timothy J      0      0         0\n",
            "12         Saundercock, Mr. William Henry      0      0         0\n",
            "14   Vestrom, Miss. Hulda Amanda Adolfina      0      0         0\n",
            "..                                    ...    ...    ...       ...\n",
            "882          Dahlberg, Miss. Gerda Ulrika      0      0         0\n",
            "883         Banfield, Mr. Frederick James      0      0         0\n",
            "884                Sutehall, Mr. Henry Jr      0      0         0\n",
            "886                 Montvila, Rev. Juozas      0      0         0\n",
            "890                   Dooley, Mr. Patrick      0      0         0\n",
            "\n",
            "[374 rows x 4 columns]\n"
          ]
        }
      ]
    },
    {
      "cell_type": "code",
      "source": [
        "survived_passengers = df[df['Survived'] == 1]\n",
        "\n",
        "top5_oldest_survived = survived_passengers.sort_values(by='Age', ascending=False).head(5)\n",
        "\n",
        "print(\"Top 5 oldest passengers who survived:\")\n",
        "print(top5_oldest_survived[['Name', 'Age', 'Survived']])\n"
      ],
      "metadata": {
        "colab": {
          "base_uri": "https://localhost:8080/"
        },
        "id": "Ky0kzEJltZGh",
        "outputId": "e19e6114-6abb-4b2c-9a21-d5f00d7c2e89"
      },
      "execution_count": null,
      "outputs": [
        {
          "output_type": "stream",
          "name": "stdout",
          "text": [
            "Top 5 oldest passengers who survived:\n",
            "                                          Name   Age  Survived\n",
            "630       Barkworth, Mr. Algernon Henry Wilson  80.0         1\n",
            "275          Andrews, Miss. Kornelia Theodosia  63.0         1\n",
            "483                     Turkula, Mrs. (Hedwig)  63.0         1\n",
            "570                         Harris, Mr. George  62.0         1\n",
            "829  Stone, Mrs. George Nelson (Martha Evelyn)  62.0         1\n"
          ]
        }
      ]
    },
    {
      "cell_type": "code",
      "source": [
        "zero_fare_passengers = df[df['Fare'] == 0]\n",
        "\n",
        "print(\"Passengers who paid zero fare:\")\n",
        "print(zero_fare_passengers[['Name', 'Fare']])\n"
      ],
      "metadata": {
        "colab": {
          "base_uri": "https://localhost:8080/"
        },
        "id": "cTBTKguGuL95",
        "outputId": "8e7eb58c-fea3-4fd1-bc22-6c0f2f4ee793"
      },
      "execution_count": null,
      "outputs": [
        {
          "output_type": "stream",
          "name": "stdout",
          "text": [
            "Passengers who paid zero fare:\n",
            "                                 Name  Fare\n",
            "179               Leonard, Mr. Lionel   0.0\n",
            "263             Harrison, Mr. William   0.0\n",
            "271      Tornquist, Mr. William Henry   0.0\n",
            "277       Parkes, Mr. Francis \"Frank\"   0.0\n",
            "302   Johnson, Mr. William Cahoone Jr   0.0\n",
            "413    Cunningham, Mr. Alfred Fleming   0.0\n",
            "466             Campbell, Mr. William   0.0\n",
            "481  Frost, Mr. Anthony Wood \"Archie\"   0.0\n",
            "597               Johnson, Mr. Alfred   0.0\n",
            "633     Parr, Mr. William Henry Marsh   0.0\n",
            "674        Watson, Mr. Ennis Hastings   0.0\n",
            "732              Knight, Mr. Robert J   0.0\n",
            "806            Andrews, Mr. Thomas Jr   0.0\n",
            "815                  Fry, Mr. Richard   0.0\n",
            "822   Reuchlin, Jonkheer. John George   0.0\n"
          ]
        }
      ]
    },
    {
      "cell_type": "code",
      "source": [
        "from sklearn.model_selection import train_test_split\n",
        "train_df, test_df = train_test_split(df, test_size=0.2, random_state=42)\n",
        "\n",
        "print(f\"Training set shape: {train_df.shape}\")\n",
        "print(f\"Testing set shape: {test_df.shape}\")\n"
      ],
      "metadata": {
        "colab": {
          "base_uri": "https://localhost:8080/"
        },
        "id": "d8JH9YxiuOFa",
        "outputId": "9b6b0421-ca00-497b-9e4c-dc31960e493a"
      },
      "execution_count": null,
      "outputs": [
        {
          "output_type": "stream",
          "name": "stdout",
          "text": [
            "Training set shape: (712, 12)\n",
            "Testing set shape: (179, 12)\n"
          ]
        }
      ]
    }
  ]
}